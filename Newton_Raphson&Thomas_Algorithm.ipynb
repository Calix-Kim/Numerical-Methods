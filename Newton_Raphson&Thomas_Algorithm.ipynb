{
 "cells": [
  {
   "cell_type": "code",
   "execution_count": 1,
   "id": "d14eb7f1-ea6a-4ec6-bf09-2d1ba7b038df",
   "metadata": {},
   "outputs": [],
   "source": [
    "import numpy as np\n",
    "import math\n",
    "from scipy.stats import norm"
   ]
  },
  {
   "cell_type": "markdown",
   "id": "7fd70fea-21ad-43f4-81df-095d44c85ba8",
   "metadata": {},
   "source": [
    "## 1. How to get the implied volatility of each option by using Newton-Raphson method"
   ]
  },
  {
   "cell_type": "code",
   "execution_count": 2,
   "id": "ca3b36b5-2690-45d9-a747-e1c4a13c8e5f",
   "metadata": {},
   "outputs": [],
   "source": [
    "def BS_price(option_type, s, k, r, q, t, sigma):\n",
    "    \n",
    "    stdnorm = norm(loc=0, scale=1)\n",
    "    \n",
    "    if option_type == \"Call\":\n",
    "        o_type = 1\n",
    "    elif option_type == \"Put\":\n",
    "        o_type = -1\n",
    "    \n",
    "    d1 = (np.log(s/ k) + (r - q + 0.5 * sigma**2) * t) / (sigma * np.sqrt(t))\n",
    "    d2 = d1 - sigma * np.sqrt(t)\n",
    "    \n",
    "    nd1 = stdnorm.cdf(o_type * d1)\n",
    "    nd2 = stdnorm.cdf(o_type * d2)\n",
    "    \n",
    "    price = o_type * (s * np.exp(-q * t) * nd1 - k * np.exp(-r * t) * nd2)\n",
    "    \n",
    "    return price"
   ]
  },
  {
   "cell_type": "code",
   "execution_count": 3,
   "id": "7c1a0189-99e4-419a-928b-a415b927e149",
   "metadata": {},
   "outputs": [],
   "source": [
    "def Newton_Raphson(option_type, s0, k, r, q, t, market_price):\n",
    "    \n",
    "    max_iter = 1000\n",
    "    tol = 0.000001\n",
    "    v0 = 0.15   #initial volatility = 15%\n",
    "    \n",
    "    if option_type == 'Call':\n",
    "        if s0 - k * np.exp(-r * t) > market_price:\n",
    "            print(\"The market price of option is out of arbitrage lower bound\")\n",
    "        if market_price > s0:\n",
    "            print(\"The market price of option is out of arbitrage upper bound\")\n",
    "    \n",
    "    elif option_type == 'Put':\n",
    "        if k * np.exp(-r * t) - s0 > market_price:\n",
    "            print(\"The market price of option is out of arbitrage lower bound\")\n",
    "        if market_price > k * np.exp(-r * t):\n",
    "            print(\"The market price of option is out of arbitrage upper bound\")\n",
    "    \n",
    "    for i in range(max_iter):\n",
    "        \n",
    "        f0 = BS_price(option_type, s0, k, r, q, t, v0) - market_price\n",
    "        d1 = (np.log(s0/ k) + (r - q + 0.5 * v0**2) * t) / (v0 * np.sqrt(t))\n",
    "        pdf_d1 = np.exp(-(d1**2)/2) / np.sqrt(2 * math.pi)\n",
    "\n",
    "        vega = s0 * pdf_d1 * np.exp(-q * t) * np.sqrt(t)\n",
    "        \n",
    "        if vega <= 0:\n",
    "            print(\"vega is zero or negative.\")\n",
    "            break\n",
    "        \n",
    "        v = v0 - f0/vega\n",
    "        err = v - v0\n",
    "        \n",
    "        if abs(f0) < tol or abs(err) < tol:\n",
    "            return v\n",
    "        else:\n",
    "            v0 = v"
   ]
  },
  {
   "cell_type": "code",
   "execution_count": 4,
   "id": "0ec82fa8-04ce-4c24-973c-3d4a096e60d4",
   "metadata": {},
   "outputs": [
    {
     "name": "stdout",
     "output_type": "stream",
     "text": [
      "The market price of option is out of arbitrage lower bound\n",
      "vega is zero or negative.\n",
      "The implied volatility of KOSPI200 C 201910 257.5 is :  None\n"
     ]
    }
   ],
   "source": [
    "option_type = \"Call\"\n",
    "s0 = 273.55\n",
    "k = 257.5\n",
    "r = 0.0155\n",
    "q = 0\n",
    "t = 10 / 365\n",
    "market_price = 16.15\n",
    "\n",
    "im_vol = Newton_Raphson(option_type, s0, k, r, q, t, market_price)\n",
    "print(\"The implied volatility of KOSPI200 C 201910 257.5 is : \", im_vol)"
   ]
  },
  {
   "cell_type": "code",
   "execution_count": 5,
   "id": "b1289340-e1b0-4c6b-8a5b-81c6d725c915",
   "metadata": {},
   "outputs": [
    {
     "name": "stdout",
     "output_type": "stream",
     "text": [
      "The implied volatility of KOSPI200 C 201910 260.0 is :  0.21829291058680864\n"
     ]
    }
   ],
   "source": [
    "option_type = \"Call\"\n",
    "s0 = 273.55\n",
    "k = 260.0\n",
    "r = 0.0155\n",
    "q = 0\n",
    "t = 10/365\n",
    "market_price = 14\n",
    "\n",
    "im_vol = Newton_Raphson(option_type, s0, k, r, q, t, market_price)\n",
    "print(\"The implied volatility of KOSPI200 C 201910 260.0 is : \", im_vol)"
   ]
  },
  {
   "cell_type": "markdown",
   "id": "84f87702-2a05-43dd-b480-259f274360f8",
   "metadata": {},
   "source": [
    "## 2. Solve the n-simultaneous equations by using Thomas algorithm"
   ]
  },
  {
   "cell_type": "code",
   "execution_count": 6,
   "id": "92b880ad-6a5b-4f38-9623-0f2c7bb0e987",
   "metadata": {},
   "outputs": [],
   "source": [
    "arr = np.array([[1, 2, 0, 0, 0, 0],\n",
    "                [-2, 1, 1, 0, 0, 0],\n",
    "                [0, 0.5, 1, 0.5, 0, 0],\n",
    "                [0, 0, -2, 1, 0.5, 0],\n",
    "                [0, 0, 0, 1, 0.2, 0.3],\n",
    "                [0, 0, 0, 0, 1, 1]])\n",
    "\n",
    "d = np.array([2, -1, 0.5, 2.3, -5, 0.25])"
   ]
  },
  {
   "cell_type": "code",
   "execution_count": 7,
   "id": "88e92777-83f8-4aac-ab8c-7295f244af4a",
   "metadata": {},
   "outputs": [],
   "source": [
    "def Thomas_algorithm(arr, d):    \n",
    "    n = len(d)\n",
    "    a_prime = np.zeros(n)\n",
    "    d_prime = np.zeros(n)\n",
    "    x = np.zeros(n)\n",
    "    \n",
    "    a_prime[0] = arr[0][0]\n",
    "    d_prime[0] = d[0]\n",
    "    \n",
    "    for i in range(1, n):\n",
    "        a_prime[i] = arr[i][i] - arr[i-1][i] * (arr[i][i-1] / a_prime[i-1]) \n",
    "        d_prime[i] = d[i] - d_prime[i-1] * (arr[i][i-1] / a_prime[i-1])\n",
    "    \n",
    "    x[n-1] = d_prime[n-1] / a_prime[n-1]\n",
    "    \n",
    "    for j in range(n-2,-1,-1):\n",
    "        x[j] = (d_prime[j]/a_prime[j]) - (arr[j][j+1]/a_prime[j]) * x[j+1]\n",
    "    \n",
    "    return x"
   ]
  },
  {
   "cell_type": "code",
   "execution_count": 8,
   "id": "79b0191f-681f-46f2-8708-8d5f81fd00de",
   "metadata": {},
   "outputs": [
    {
     "name": "stdout",
     "output_type": "stream",
     "text": [
      "[  1.59609375   0.20195312   1.99023438  -3.18242188  18.92578125\n",
      " -18.67578125]\n"
     ]
    }
   ],
   "source": [
    "print(Thomas_algorithm(arr, d))"
   ]
  }
 ],
 "metadata": {
  "kernelspec": {
   "display_name": "Python 3",
   "language": "python",
   "name": "python3"
  },
  "language_info": {
   "codemirror_mode": {
    "name": "ipython",
    "version": 3
   },
   "file_extension": ".py",
   "mimetype": "text/x-python",
   "name": "python",
   "nbconvert_exporter": "python",
   "pygments_lexer": "ipython3",
   "version": "3.8.8"
  }
 },
 "nbformat": 4,
 "nbformat_minor": 5
}
