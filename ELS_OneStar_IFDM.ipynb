{
 "cells": [
  {
   "cell_type": "code",
   "execution_count": 1,
   "id": "6964db5f-e118-4cba-88ea-363b9dc3e1b9",
   "metadata": {},
   "outputs": [],
   "source": [
    "import numpy as np\n",
    "import pandas as pd\n",
    "import matplotlib.pyplot as plt"
   ]
  },
  {
   "cell_type": "code",
   "execution_count": 2,
   "id": "ba1c77e7-650b-480f-8978-4a43cb99ef42",
   "metadata": {},
   "outputs": [],
   "source": [
    "def tridiag(a, b, c, d):\n",
    "    nf = len(d) # number of equations\n",
    "    ac, bc, cc, dc = map(np.array, (a, b, c, d)) # copy arrays\n",
    "    for it in range(1, nf):\n",
    "        mc = bc[it-1]/ac[it-1]\n",
    "        ac[it] = ac[it] - mc*cc[it-1] \n",
    "        dc[it] = dc[it] - mc*dc[it-1]\n",
    "        \t    \n",
    "    xc = ac\n",
    "    xc[-1] = dc[-1]/ac[-1]\n",
    "\n",
    "    for il in range(nf-2, -1, -1):\n",
    "        xc[il] = (dc[il]-cc[il]*xc[il+1])/ac[il]\n",
    "\n",
    "    return xc"
   ]
  },
  {
   "cell_type": "code",
   "execution_count": 3,
   "id": "0f42007c-993c-412d-b20b-2089a492ce39",
   "metadata": {},
   "outputs": [],
   "source": [
    "# def TDMA(a,b,c,d):\n",
    "#     n = len(d)\n",
    "#     w= np.zeros(n-1,float)\n",
    "#     g= np.zeros(n, float)\n",
    "#     p = np.zeros(n,float)\n",
    "    \n",
    "#     w[0] = c[0]/a[0]\n",
    "#     g[0] = d[0]/a[0]\n",
    "\n",
    "#     for i in range(1,n-1):\n",
    "#         w[i] = c[i]/(a[i] - b[i-1]*w[i-1])\n",
    "#     for i in range(1,n):\n",
    "#         g[i] = (d[i] - b[i-1]*g[i-1])/(a[i] - b[i-1]*w[i-1])\n",
    "#     p[n-1] = g[n-1]\n",
    "#     for i in range(n-1,0,-1):\n",
    "#         p[i-1] = g[i-1] - w[i-1]*p[i]\n",
    "#     return p"
   ]
  },
  {
   "cell_type": "code",
   "execution_count": 4,
   "id": "4e5ffc69-559e-419c-8a04-70bde07a1cc1",
   "metadata": {},
   "outputs": [],
   "source": [
    "# def Make_Tridiagonal_Matrix(a, b, c):\n",
    "#     n = len(a)\n",
    "#     U = []\n",
    "#     for j in range(n):\n",
    "#         temp = np.zeros(n)\n",
    "#         temp[j] = a[j]\n",
    "#         if j != 0:\n",
    "#             if j != n - 1:\n",
    "#                 temp[j+1] = c[j]\n",
    "#             temp[j-1] = b[j]\n",
    "#         else:\n",
    "#             temp[j+1] = c[j]\n",
    "#         U.append(list(temp))\n",
    "#     return U\n",
    "\n",
    "# def Thomas_algorithm(arr, d):    \n",
    "#     n = len(d)\n",
    "#     a_prime = np.zeros(n)\n",
    "#     d_prime = np.zeros(n)\n",
    "#     x = np.zeros(n)\n",
    "    \n",
    "#     a_prime[0] = arr[0][0]\n",
    "#     d_prime[0] = d[0]\n",
    "    \n",
    "#     for i in range(1, n):\n",
    "#         a_prime[i] = arr[i][i] - arr[i-1][i] * (arr[i][i-1] / a_prime[i-1]) \n",
    "#         d_prime[i] = d[i] - d_prime[i-1] * (arr[i][i-1] / a_prime[i-1])\n",
    "    \n",
    "#     x[n-1] = d_prime[n-1] / a_prime[n-1]\n",
    "    \n",
    "#     for j in range(n-2,-1,-1):\n",
    "#         x[j] = (d_prime[j]/a_prime[j]) - (arr[j][j+1]/a_prime[j]) * x[j+1]\n",
    "    \n",
    "#     return x"
   ]
  },
  {
   "cell_type": "code",
   "execution_count": 5,
   "id": "cff7047d-d649-41e1-98cb-74585342cd03",
   "metadata": {},
   "outputs": [],
   "source": [
    "# Official Price = 9193.47\n",
    "\n",
    "# Parameters\n",
    "S0 = 200 # reference price of underlying asset\n",
    "T = 3    # Maturation of contract\n",
    "cr = np.array([0.025, 0.045, 0.0675, 0.09, 0.1125, 0.135]) # Coupon rate of return on each early redemption date\n",
    "K = np.array([0.98, 0.98, 0.95, 0.95, 0.90, 0.85])  # Exercise price on each early redemption date\n",
    "d = np.array([0.5, 1, 1.5, 2, 2.5, 3]) # Early redemption date\n",
    "B = 0.59 # Knock-In barrier level\n",
    "sigma = 0.2785 # Volatility of the underlying asset\n",
    "r = 0.0177 # Interest rate\n",
    "q = 0 # Dividend"
   ]
  },
  {
   "cell_type": "code",
   "execution_count": 6,
   "id": "0f45eca4-8b9a-46de-bd7b-ad67cbc91ad6",
   "metadata": {},
   "outputs": [],
   "source": [
    "# Spacing\n",
    "dx = S0*0.01  # chnage of 1% of current price\n",
    "Nx = 400      # Number of space(S) points \n",
    "Smax = dx*Nx  # Max price of the underlying asset \n",
    "Smin = 0\n",
    "pp = 50       # Number of time points in each 6 month\n",
    "Nt = 6*pp     # Total number of time points (monthly frequency)\n",
    "dt = T/Nt     # Time step\n",
    "Rtag = 2*d*pp # Time step of early redemption date\n",
    "S0tag = 0     # Node number of current price\n",
    "Btag = 0      # Node number of barrier \n",
    "\n",
    "for j in range(1, Nx+2):\n",
    "    if j*dx <= S0:\n",
    "        S0tag+=1\n",
    "    if j*dx <= S0*B:\n",
    "        Btag+=1"
   ]
  },
  {
   "cell_type": "code",
   "execution_count": 7,
   "id": "fc93827e-cb7f-4efc-9480-d05c944b6690",
   "metadata": {},
   "outputs": [],
   "source": [
    "def ELS_Onestar_IFDM(Smin, Smax, sig, rf, D, S0, cr, K, B, T, Nx, Nt, dt, Rtag, Btag):\n",
    "    \n",
    "    # Computational domain\n",
    "    S = np.linspace(Smin, Smax, Nx+1)\n",
    "    x = S/S0\n",
    "    \n",
    "    u = np.zeros([Nt+1, Nx+1])\n",
    "    w = np.zeros([Nt+1, Nx+1])\n",
    "    \n",
    "    x_h = np.arange(1, Nx)\n",
    "    \n",
    "    # Coefficients of x for IFDM and boundary condition adjusted\n",
    "    a = 1 + dt*(rf + (sig**2)*(x_h)**2)\n",
    "    b = (dt/2)*((rf-D)*x_h - (sig**2)*(x_h**2))\n",
    "    c = (dt/2)*(-(rf-D)*x_h - (sig**2)*(x_h**2))\n",
    "    \n",
    "    a[0] = a[0] + 2*b[0]\n",
    "    c[0] = c[0] - b[0]\n",
    "    \n",
    "    a[Nx-2] = a[Nx-2] + 2*c[Nx-2]\n",
    "    b[Nx-2] = b[Nx-2] - c[Nx-2]\n",
    "    \n",
    "    # Initial conditions\n",
    "    for j in range(Nx+1):\n",
    "        if x[j] > B:\n",
    "            u[0][j] = (1 + cr[5])\n",
    "        else:\n",
    "            u[0][j] = x[j]\n",
    "        if x[j] >= K[5]:\n",
    "            w[0][j] = (1 + cr[5])\n",
    "        else:\n",
    "            w[0][j] = x[j]\n",
    "    \n",
    "    # Linear boundary condition\n",
    "    u[1:,0] = 2*u[1:,1] - u[1:,2]\n",
    "    u[1:,-1] = 2*u[1:,-2] - u[1:,-3]\n",
    "    w[1:,0] = 2*w[1:,1] - w[1:,2]\n",
    "    w[1:,-1] = 2*w[1:,-2] - w[1:,-3]\n",
    "    \n",
    "    for n in range(1, Nt+1):\n",
    "        \n",
    "        # Early redemption\n",
    "        for j in range(5):\n",
    "            if n == (Rtag[j]-1):\n",
    "                dummy = int(np.ceil(S0tag*K[4-j]))\n",
    "                dummy-=1\n",
    "                u[n,dummy:] = 1 + cr[4-j]\n",
    "                w[n,dummy:] = 1 + cr[4-j]\n",
    "                \n",
    "        d = u[n-1,1:Nx]\n",
    "        u[n,1:Nx] = tridiag(a,b[1:],c[:-1],d)\n",
    "        d = w[n-1,1:Nx]\n",
    "        w[n,1:Nx] = tridiag(a,b[1:],c[:-1],d)\n",
    "        u[n,1:Btag-1] = w[n,1:Btag-1]\n",
    "                \n",
    "        u[n,0] = 2*u[n,1] - u[n,2]\n",
    "        u[n,-1] = 2*u[n,-2] - u[n,-3]\n",
    "        w[n,0] = 2*w[n,1] - w[n,2]\n",
    "        w[n,-1] = 2*w[n,-2] - w[n,-3]\n",
    "    \n",
    "    price = u\n",
    "    \n",
    "    return price"
   ]
  },
  {
   "cell_type": "code",
   "execution_count": 8,
   "id": "223910c8-0bf7-4ae0-8d7a-ef931be595f5",
   "metadata": {},
   "outputs": [],
   "source": [
    "price = ELS_Onestar_IFDM(Smin, Smax, sigma, r, q, S0, cr, K, B, T, Nx, Nt, dt, Rtag, Btag)"
   ]
  },
  {
   "cell_type": "code",
   "execution_count": 9,
   "id": "3c80fa48-7174-407d-a859-1cb62a005ae8",
   "metadata": {},
   "outputs": [
    {
     "data": {
      "image/png": "[encoded data removed]",
      "text/plain": [
       "<Figure size 432x288 with 1 Axes>"
      ]
     },
     "metadata": {
      "needs_background": "light"
     },
     "output_type": "display_data"
    }
   ],
   "source": [
    "S = np.linspace(Smin, Smax, Nx+1)\n",
    "plt.plot(S, price[Nt,:])\n",
    "plt.scatter(S0, price[Nt,S0tag])\n",
    "plt.show()"
   ]
  },
  {
   "cell_type": "code",
   "execution_count": 10,
   "id": "fe912b44-5fa8-4d90-815d-0dc90ae84de1",
   "metadata": {},
   "outputs": [
    {
     "data": {
      "image/png": "[encoded data removed]",
      "text/plain": [
       "<Figure size 432x288 with 1 Axes>"
      ]
     },
     "metadata": {
      "needs_background": "light"
     },
     "output_type": "display_data"
    }
   ],
   "source": [
    "delta = (price[Nt,1:] - price[Nt,:-1])/dx\n",
    "idx = int(S0/dx)\n",
    "plt.plot(S[:-1], delta)\n",
    "plt.scatter(S0, delta[idx])\n",
    "plt.show()"
   ]
  },
  {
   "cell_type": "code",
   "execution_count": 11,
   "id": "64463029-5952-40f9-9a05-195c55aa9fa3",
   "metadata": {},
   "outputs": [
    {
     "name": "stdout",
     "output_type": "stream",
     "text": [
      "Price :  0.9329759047690266\n",
      "Delta :  0.002219069315171629\n"
     ]
    }
   ],
   "source": [
    "print(\"Price : \", price[Nt,S0tag])\n",
    "print(\"Delta : \", delta[idx])"
   ]
  },
  {
   "cell_type": "code",
   "execution_count": null,
   "id": "39296e10-59c0-4ca9-825b-a86072f089ff",
   "metadata": {},
   "outputs": [],
   "source": []
  }
 ],
 "metadata": {
  "kernelspec": {
   "display_name": "Python 3",
   "language": "python",
   "name": "python3"
  },
  "language_info": {
   "codemirror_mode": {
    "name": "ipython",
    "version": 3
   },
   "file_extension": ".py",
   "mimetype": "text/x-python",
   "name": "python",
   "nbconvert_exporter": "python",
   "pygments_lexer": "ipython3",
   "version": "3.8.8"
  }
 },
 "nbformat": 4,
 "nbformat_minor": 5
}
