{
 "cells": [
  {
   "cell_type": "code",
   "execution_count": 2,
   "id": "6964db5f-e118-4cba-88ea-363b9dc3e1b9",
   "metadata": {},
   "outputs": [],
   "source": [
    "import numpy as np\n",
    "import pandas as pd\n",
    "import matplotlib.pyplot as plt\n",
    "import copy\n",
    "from datetime import datetime"
   ]
  },
  {
   "cell_type": "markdown",
   "id": "6712b14a-37e7-43e6-ac31-6491378aa021",
   "metadata": {},
   "source": [
    "# CNFDM"
   ]
  },
  {
   "cell_type": "code",
   "execution_count": 2,
   "id": "ba1c77e7-650b-480f-8978-4a43cb99ef42",
   "metadata": {},
   "outputs": [],
   "source": [
    "def tridiag(a, b, c, d):\n",
    "    nf = len(d) # number of equations\n",
    "    ac, bc, cc, dc = map(np.array, (a, b, c, d)) # copy arrays\n",
    "    for it in range(1, nf):\n",
    "        mc = bc[it-1]/ac[it-1]\n",
    "        ac[it] = ac[it] - mc*cc[it-1] \n",
    "        dc[it] = dc[it] - mc*dc[it-1]\n",
    "        \t    \n",
    "    xc = ac\n",
    "    xc[-1] = dc[-1]/ac[-1]\n",
    "\n",
    "    for il in range(nf-2, -1, -1):\n",
    "        xc[il] = (dc[il]-cc[il]*xc[il+1])/ac[il]\n",
    "\n",
    "    return xc"
   ]
  },
  {
   "cell_type": "code",
   "execution_count": 3,
   "id": "cff7047d-d649-41e1-98cb-74585342cd03",
   "metadata": {},
   "outputs": [],
   "source": [
    "# Official Price = 9193.47\n",
    "\n",
    "# Parameters\n",
    "S0 = 400 # reference price of underlying asset (2021/04/09)\n",
    "T = 3    # Maturation of contract\n",
    "cr = np.array([0.025, 0.045, 0.0675, 0.09, 0.1125, 0.135]) # Coupon rate of return on each early redemption date\n",
    "K = np.array([0.98, 0.98, 0.95, 0.95, 0.90, 0.85])  # Exercise price on each early redemption date\n",
    "d = np.array([0.5, 1, 1.5, 2, 2.5, 3]) # Early redemption date\n",
    "B = 0.59 # Knock-In barrier level\n",
    "sigma = 0.2785 # Volatility of the underlying asset\n",
    "r = 0.0074 # CD 3-months Interest rate (2021/04/09)\n",
    "q = 0 # Dividend"
   ]
  },
  {
   "cell_type": "code",
   "execution_count": 4,
   "id": "0f45eca4-8b9a-46de-bd7b-ad67cbc91ad6",
   "metadata": {},
   "outputs": [],
   "source": [
    "# Spacing\n",
    "dx = S0*0.01  # chnage of 1% of current price\n",
    "Nx = 400      # Number of space(S) points \n",
    "Smax = dx*Nx  # Max price of the underlying asset \n",
    "Smin = 0\n",
    "pp = 50       # Number of time points in each 6 month\n",
    "Nt = 6*pp     # Total number of time points (monthly frequency)\n",
    "dt = T/Nt     # Time step\n",
    "Rtag = 2*d*pp # Time step of early redemption date\n",
    "S0tag = 0     # Node number of current price\n",
    "Btag = 0      # Node number of barrier \n",
    "\n",
    "for j in range(1, Nx+2):\n",
    "    if j*dx <= S0:\n",
    "        S0tag+=1\n",
    "    if j*dx <= S0*B:\n",
    "        Btag+=1"
   ]
  },
  {
   "cell_type": "code",
   "execution_count": 5,
   "id": "fc93827e-cb7f-4efc-9480-d05c944b6690",
   "metadata": {},
   "outputs": [],
   "source": [
    "def ELS_Onestar_CNFDM(Smin, Smax, sig, rf, D, S0, cr, K, B, T, Nx, Nt, dt, Rtag, Btag):\n",
    "    \n",
    "    # Computational domain\n",
    "    S = np.linspace(Smin, Smax, Nx+1)\n",
    "    x = S/S0\n",
    "    \n",
    "    u = np.zeros([Nt+1, Nx+1])\n",
    "    w = np.zeros([Nt+1, Nx+1])\n",
    "    \n",
    "    x_h = np.arange(1, Nx)\n",
    "    \n",
    "    # Initial conditions\n",
    "    for j in range(Nx+1):\n",
    "        if x[j] > B:\n",
    "            u[0][j] = (1 + cr[5])\n",
    "        else:\n",
    "            u[0][j] = x[j]\n",
    "        if x[j] >= K[5]:\n",
    "            w[0][j] = (1 + cr[5])\n",
    "        else:\n",
    "            w[0][j] = x[j]\n",
    "    \n",
    "    # Linear boundary condition\n",
    "    u[1:,0] = 2*u[1:,1] - u[1:,2]\n",
    "    u[1:,-1] = 2*u[1:,-2] - u[1:,-3]\n",
    "    w[1:,0] = 2*w[1:,1] - w[1:,2]\n",
    "    w[1:,-1] = 2*w[1:,-2] - w[1:,-3]\n",
    "    \n",
    "    # Coefficients of x for CNFDM and boundary condition adjusted\n",
    "    a_ori = (dt/2)*(rf + (sig**2)*(x_h)**2)\n",
    "    b_ori = (dt/4)*((rf-D)*x_h - (sig**2)*(x_h**2))\n",
    "    c_ori = (dt/4)*(-(rf-D)*x_h - (sig**2)*(x_h**2))\n",
    "    \n",
    "    for n in range(1, Nt+1):\n",
    "        \n",
    "        # For u matrix\n",
    "        a = copy.deepcopy(a_ori)\n",
    "        b = copy.deepcopy(b_ori)\n",
    "        c = copy.deepcopy(c_ori)\n",
    "        d = np.zeros(Nx-1)\n",
    "                \n",
    "        for j in range(1, Nx):\n",
    "            d[j-1] = -b[j-1]*u[n-1,j-1] + (1-a[j-1])*u[n-1,j] - c[j-1]*u[n-1,j+1]\n",
    "                \n",
    "        a[0] = a[0] + 2*b[0]\n",
    "        c[0] = c[0] - b[0]\n",
    "    \n",
    "        a[Nx-2] = a[Nx-2] + 2*c[Nx-2]\n",
    "        b[Nx-2] = b[Nx-2] - c[Nx-2]\n",
    "\n",
    "        u[n,1:Nx] = tridiag(1+a,b[1:],c[:-1],d)\n",
    "\n",
    "        a = copy.deepcopy(a_ori)\n",
    "        b = copy.deepcopy(b_ori)\n",
    "        c = copy.deepcopy(c_ori)\n",
    "        d = np.zeros(Nx-1)\n",
    "        \n",
    "        # For w matrix\n",
    "        for j in range(1, Nx):\n",
    "            d[j-1] = -b[j-1]*w[n-1,j-1] + (1-a[j-1])*w[n-1,j] - c[j-1]*w[n-1,j+1]\n",
    "                \n",
    "        a[0] = a[0] + 2*b[0]\n",
    "        c[0] = c[0] - b[0]\n",
    "    \n",
    "        a[Nx-2] = a[Nx-2] + 2*c[Nx-2]\n",
    "        b[Nx-2] = b[Nx-2] - c[Nx-2]\n",
    "        \n",
    "        w[n,1:Nx] = tridiag(1+a,b[1:],c[:-1],d)\n",
    "        u[n,1:Btag-1] = w[n,1:Btag-1]\n",
    "                \n",
    "        u[n,0] = 2*u[n,1] - u[n,2]\n",
    "        u[n,-1] = 2*u[n,-2] - u[n,-3]\n",
    "        w[n,0] = 2*w[n,1] - w[n,2]\n",
    "        w[n,-1] = 2*w[n,-2] - w[n,-3]\n",
    "        \n",
    "        # Early redemption\n",
    "        for j in range(5):\n",
    "            if n == (Rtag[j]-1):\n",
    "                dummy = int(np.ceil(S0tag*K[4-j]))\n",
    "                dummy-=1\n",
    "                u[n,dummy:] = 1 + cr[4-j]\n",
    "                w[n,dummy:] = 1 + cr[4-j]\n",
    "    \n",
    "    price = u\n",
    "    \n",
    "    return price"
   ]
  },
  {
   "cell_type": "code",
   "execution_count": 6,
   "id": "223910c8-0bf7-4ae0-8d7a-ef931be595f5",
   "metadata": {},
   "outputs": [],
   "source": [
    "price = ELS_Onestar_CNFDM(Smin, Smax, sigma, r, q, S0, cr, K, B, T, Nx, Nt, dt, Rtag, Btag)"
   ]
  },
  {
   "cell_type": "code",
   "execution_count": 7,
   "id": "94c4aa20-2eed-42a6-a087-dc8e0ad95624",
   "metadata": {},
   "outputs": [
    {
     "name": "stdout",
     "output_type": "stream",
     "text": [
      "ELS Price using CNFDM method:  9477.530189631447\n"
     ]
    }
   ],
   "source": [
    "face = 10000\n",
    "print(\"ELS Price using CNFDM method: \", price[Nt,S0tag]*face)"
   ]
  },
  {
   "cell_type": "markdown",
   "id": "eb3896c2-053f-4657-956f-d72d9e40e436",
   "metadata": {},
   "source": [
    "# Greeks"
   ]
  },
  {
   "cell_type": "code",
   "execution_count": 8,
   "id": "3c80fa48-7174-407d-a859-1cb62a005ae8",
   "metadata": {},
   "outputs": [
    {
     "data": {
      "image/png": "[encoded data removed]",
      "text/plain": [
       "<Figure size 432x288 with 1 Axes>"
      ]
     },
     "metadata": {
      "needs_background": "light"
     },
     "output_type": "display_data"
    }
   ],
   "source": [
    "S = np.linspace(Smin, Smax, Nx+1)\n",
    "plt.plot(S, price[Nt,:])\n",
    "plt.scatter(S0, price[Nt,S0tag])\n",
    "plt.show()"
   ]
  },
  {
   "cell_type": "code",
   "execution_count": 9,
   "id": "fe912b44-5fa8-4d90-815d-0dc90ae84de1",
   "metadata": {},
   "outputs": [
    {
     "data": {
      "image/png": "[encoded data removed]",
      "text/plain": [
       "<Figure size 432x288 with 1 Axes>"
      ]
     },
     "metadata": {
      "needs_background": "light"
     },
     "output_type": "display_data"
    }
   ],
   "source": [
    "delta = (price[Nt,1:] - price[Nt,:-1])/dx\n",
    "idx = int(S0/dx)\n",
    "plt.plot(S[:-1], delta)\n",
    "plt.scatter(S0, delta[idx])\n",
    "plt.show()"
   ]
  },
  {
   "cell_type": "code",
   "execution_count": 10,
   "id": "891d81ee-72d9-4d2f-9055-6e83f62eca58",
   "metadata": {},
   "outputs": [
    {
     "data": {
      "image/png": "[encoded data removed]",
      "text/plain": [
       "<Figure size 432x288 with 1 Axes>"
      ]
     },
     "metadata": {
      "needs_background": "light"
     },
     "output_type": "display_data"
    }
   ],
   "source": [
    "gamma = (delta[1:] - delta[:-1])/dx\n",
    "idx = int(S0/dx)\n",
    "plt.plot(S[:-2], gamma)\n",
    "plt.scatter(S0, gamma[idx])\n",
    "plt.show()"
   ]
  },
  {
   "cell_type": "code",
   "execution_count": 17,
   "id": "6967ea46-12cd-4c41-9ed9-5ffee5f7dffa",
   "metadata": {},
   "outputs": [
    {
     "data": {
      "image/png": "[encoded data removed]",
      "text/plain": [
       "<Figure size 432x288 with 1 Axes>"
      ]
     },
     "metadata": {
      "needs_background": "light"
     },
     "output_type": "display_data"
    }
   ],
   "source": [
    "price_sig = ELS_Onestar_CNFDM(Smin, Smax, sigma+0.01, r, q, S0, cr, K, B, T, Nx, Nt, dt, Rtag, Btag)\n",
    "vega = (price_sig[Nt,:] - price[Nt,:])/1\n",
    "idx = int(S0/dx)\n",
    "plt.plot(S, vega)\n",
    "plt.scatter(S0, vega[idx])\n",
    "plt.show()"
   ]
  },
  {
   "cell_type": "code",
   "execution_count": 18,
   "id": "e0baf59e-30b6-48ed-a07d-1047f9636baa",
   "metadata": {},
   "outputs": [
    {
     "name": "stdout",
     "output_type": "stream",
     "text": [
      "Price :  0.9477530189631447\n",
      "Delta :  0.0010419821613335267\n",
      "Gamma :  -1.1496967481247622e-05\n",
      "Vega :  -0.005810898192215697\n"
     ]
    }
   ],
   "source": [
    "print(\"Price : \", price[Nt,S0tag])\n",
    "print(\"Delta : \", delta[idx])\n",
    "print(\"Gamma : \", gamma[idx])\n",
    "print(\"Vega : \", vega[idx])"
   ]
  },
  {
   "cell_type": "markdown",
   "id": "9d622621-88b0-4ad6-a831-f4718ad4d9fd",
   "metadata": {},
   "source": [
    "# Simulation (Using Brownian Bridge)"
   ]
  },
  {
   "cell_type": "code",
   "execution_count": 13,
   "id": "fbe98275-5fd2-4119-8c68-1a3ecc30ead0",
   "metadata": {},
   "outputs": [],
   "source": [
    "def BB(w0,wt,t,m):\n",
    "    h = 2**m\n",
    "    T = np.linspace(0,t, h+1)\n",
    "    W = np.zeros(h+1)\n",
    "    z = np.random.randn(h+1)\n",
    "    W[0] = w0\n",
    "    W[h] = wt\n",
    "    j_max = 1\n",
    "    \n",
    "    for k in range(1, m+1):\n",
    "        i_min = h//2\n",
    "        i = i_min\n",
    "        l = 0\n",
    "        r = h\n",
    "        for j in range(1, j_max+1):\n",
    "            a = ((T[r]-T[i])*W[l] + (T[i]-T[l])*W[r]) / (T[r]-T[l])\n",
    "            b = np.sqrt( (T[i]-T[l])*(T[r]-T[i])/(T[r]-T[l]) )\n",
    "            W[i] = a + b*z[i]\n",
    "        j_max*=2\n",
    "        h = i_min\n",
    "    \n",
    "    return W"
   ]
  },
  {
   "cell_type": "code",
   "execution_count": 14,
   "id": "af85d043-8dd4-4128-98b6-5b437e0f28e2",
   "metadata": {},
   "outputs": [],
   "source": [
    "def ELS_Simulation_BB(S0,r,q,sigma,T,cr,K,B,M,m):\n",
    "    \n",
    "    S_start = S0\n",
    "    principal = 10000   \n",
    "    \n",
    "    check_term = 0.5\n",
    "    check_max = int(T / check_term)\n",
    "    \n",
    "    case=8\n",
    "    S = np.zeros(check_max+1)\n",
    "    payment = np.zeros(M)\n",
    "    prob = np.zeros(case)\n",
    "    \n",
    "    for i in range(M):\n",
    "        \n",
    "        S[0] = S_start\n",
    "        \n",
    "        x = np.random.randn(check_max)\n",
    "        W = np.zeros(check_max+1)\n",
    "\n",
    "        check_barrier = False\n",
    "        \n",
    "        for j in range(1, check_max+1):\n",
    "\n",
    "            # Random walk\n",
    "            W[j] = W[j-1] + np.sqrt(check_term) * x[j-1]            \n",
    "            e =  W[j] - W[j-1]\n",
    "    \n",
    "            S[j] = S[j-1]*np.exp( (r - q - (sigma**2)/2)*check_term + sigma*e)\n",
    "            \n",
    "            # Check Barrier\n",
    "            if S[j] < S_start * B:\n",
    "                check_barrier = True\n",
    "            \n",
    "            # Check early redemption\n",
    "            if S[j] >= S_start * K[j-1]:\n",
    "                payment[i] = principal * (1+cr[j-1]) * np.exp(-r * j * check_term)\n",
    "                prob[j-1]+=1\n",
    "                break\n",
    "            \n",
    "            # Check Maturity redemption\n",
    "            if j == check_max:\n",
    "                if (check_barrier == True) and (S[j] < S_start * K[j-1]):\n",
    "                    payment[i] = principal * S[j]/S_start * np.exp(-r * j * check_term)\n",
    "                    prob[j+1]+=1\n",
    "                    break\n",
    "                    \n",
    "                else:\n",
    "                    S_BB = np.zeros(2**m+1)\n",
    "                    S_BB[0] = S_start\n",
    "                    \n",
    "                    # Brownian Bridge\n",
    "                    for k in range(1, check_max+1):      \n",
    "                        W_BB = BB(W[k-1], W[k], 0.5, m)\n",
    "                        \n",
    "                        for l in range(1, 2**m+1):\n",
    "                            e = W_BB[l] - W_BB[l-1]\n",
    "                        \n",
    "                            S_BB[l] = S_BB[l-1] * np.exp( (r - q - sigma**2/2)*(check_term/2**m) + sigma * e )\n",
    "                        \n",
    "                            if(S_BB[l] < S_start * B):\n",
    "                                check_barrier = True\n",
    "                                payment[i] = principal * S[j]/S_start * np.exp(-r * j * check_term)\n",
    "                                prob[j+1]+=1\n",
    "                                break\n",
    "                                \n",
    "                        if check_barrier:\n",
    "                            break          \n",
    "                        else:        \n",
    "                            S_BB[0] = S_BB[2**m]\n",
    "                    \n",
    "                    if check_barrier == False:\n",
    "                        payment[i] = principal * (1+cr[j-1]) * np.exp(-r * j * check_term)\n",
    "                        prob[j]+=1\n",
    "                        break\n",
    "            \n",
    "    \n",
    "    value = np.mean(payment)\n",
    "    prob = prob / M\n",
    "    \n",
    "    return value,prob"
   ]
  },
  {
   "cell_type": "code",
   "execution_count": 15,
   "id": "8d73ccf3-787c-4db6-9260-57162b31e7b2",
   "metadata": {},
   "outputs": [
    {
     "name": "stdout",
     "output_type": "stream",
     "text": [
      "Simulation Price = 9489.259950\n",
      "prob[1] = 50.94%\n",
      "prob[2] = 11.28%\n",
      "prob[3] =  6.79%\n",
      "prob[4] =  3.47%\n",
      "prob[5] =  3.34%\n",
      "prob[6] =  2.68%\n",
      "prob[7] =  4.38%\n",
      "prob[8] = 17.12%\n",
      "Total sum of prob = 100%\n",
      "Total computing time = 0.420873 seconds\n"
     ]
    }
   ],
   "source": [
    "M=10000\n",
    "m=3\n",
    "t1=datetime.now()\n",
    "value,prob=ELS_Simulation_BB(S0,r,q,sigma,T,cr,K,B,M,m)\n",
    "t2=datetime.now()\n",
    "print('Simulation Price = {:f}'.format(value))\n",
    "for i in range(8):\n",
    "    print('prob[{:d}] = {:{width}.2%}'.format(i+1,prob[i],width=6))\n",
    "print('Total sum of prob = {:.0%}'.format(sum(prob)))\n",
    "print('Total computing time = {:f} seconds'.format((t2-t1).total_seconds()))"
   ]
  },
  {
   "cell_type": "code",
   "execution_count": null,
   "id": "c5fa8067-40bb-4c0e-9d99-e600db5af989",
   "metadata": {},
   "outputs": [],
   "source": []
  }
 ],
 "metadata": {
  "kernelspec": {
   "display_name": "Python 3",
   "language": "python",
   "name": "python3"
  },
  "language_info": {
   "codemirror_mode": {
    "name": "ipython",
    "version": 3
   },
   "file_extension": ".py",
   "mimetype": "text/x-python",
   "name": "python",
   "nbconvert_exporter": "python",
   "pygments_lexer": "ipython3",
   "version": "3.8.8"
  }
 },
 "nbformat": 4,
 "nbformat_minor": 5
}
